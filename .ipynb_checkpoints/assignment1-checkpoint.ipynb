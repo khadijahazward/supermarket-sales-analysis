{
 "cells": [
  {
   "cell_type": "code",
   "execution_count": 49,
   "id": "61c15c09-5b4f-492c-b1bc-6123e371a449",
   "metadata": {},
   "outputs": [
    {
     "name": "stdout",
     "output_type": "stream",
     "text": [
      "No missing values found in the dataset.\n"
     ]
    }
   ],
   "source": [
    "import pandas as pd\n",
    "import numpy as np\n",
    "import seaborn as sns\n",
    "import matplotlib.pyplot as plt\n",
    "\n",
    "# Load the dataset\n",
    "sales_data = pd.read_csv('supermarket_sales.csv')\n",
    "\n",
    "# Check for missing values\n",
    "missing_values = sales_data.isnull().sum()\n",
    "missing_columns = missing_values[missing_values > 0]\n",
    "\n",
    "if missing_columns.empty:\n",
    "    print(\"No missing values found in the dataset.\")\n",
    "else:\n",
    "    print(\"Missing Values in Each Column:\\n\", missing_columns)\n",
    "\n",
    "# Data cleaning\n",
    "# Drop columns\n",
    "sales_data.drop(columns=['gross margin percentage', 'City'], inplace=True)\n",
    "\n",
    "# Removes outliers using IQR method\n",
    "def remove_outliers(sales_data, col):\n",
    "    Q1 = sales_data[col].quantile(0.25) \n",
    "    Q3 = sales_data[col].quantile(0.75)\n",
    "    IQR = Q3 - Q1 \n",
    "    lower_bound = Q1 - 1.5 * IQR \n",
    "    upper_bound = Q3 + 1.5 * IQR \n",
    "\n",
    "    sales_data_cleaned = sales_data[(sales_data[col] >= lower_bound) & (sales_data[col] <= upper_bound)]\n",
    "    return sales_data_cleaned\n",
    "\n",
    "# Removes outliers for unit price and quantity attributes\n",
    "sales_data_cleaned = sales_data.copy()\n",
    "\n",
    "columns_to_check = ['Unit price', 'Quantity']\n",
    "for col in columns_to_check:\n",
    "    sales_data_cleaned = remove_outliers(sales_data_cleaned, col)"
   ]
  },
  {
   "cell_type": "code",
   "execution_count": 48,
   "id": "eeba3ba1-05bd-46be-8b4c-0891f1ff9099",
   "metadata": {},
   "outputs": [
    {
     "data": {
      "image/png": "[encoded data removed]",
      "text/plain": [
       "<Figure size 640x480 with 1 Axes>"
      ]
     },
     "metadata": {},
     "output_type": "display_data"
    },
    {
     "name": "stdout",
     "output_type": "stream",
     "text": [
      "Branch\n",
      "A    312.35\n",
      "B    319.87\n",
      "C    337.10\n",
      "Name: Total, dtype: float64\n"
     ]
    }
   ],
   "source": [
    "# Group sales by branch and calculate total sales\n",
    "sales_by_branch = sales_data_cleaned.groupby('Branch')['Total'].sum()\n",
    "\n",
    "# total sales by branch\n",
    "sns.barplot(x=sales_by_branch.index, y=sales_by_branch.values)\n",
    "plt.title('Total Sales by Branch')\n",
    "plt.xlabel('Branch')\n",
    "plt.ylabel('Sales')\n",
    "plt.show()\n",
    "\n",
    "# Calculate average sales per transaction by branch\n",
    "average_sales_per_branch = sales_data_cleaned.groupby('Branch')['Total'].mean().round(2)\n",
    "print(average_sales_per_branch)"
   ]
  },
  {
   "cell_type": "code",
   "execution_count": null,
   "id": "ea1a63d9-7dde-42b0-b130-7ba53ccd88b1",
   "metadata": {},
   "outputs": [],
   "source": []
  }
 ],
 "metadata": {
  "kernelspec": {
   "display_name": "Python 3 (ipykernel)",
   "language": "python",
   "name": "python3"
  },
  "language_info": {
   "codemirror_mode": {
    "name": "ipython",
    "version": 3
   },
   "file_extension": ".py",
   "mimetype": "text/x-python",
   "name": "python",
   "nbconvert_exporter": "python",
   "pygments_lexer": "ipython3",
   "version": "3.10.11"
  }
 },
 "nbformat": 4,
 "nbformat_minor": 5
}
